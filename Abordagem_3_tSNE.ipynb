{
 "cells": [
  {
   "cell_type": "markdown",
   "metadata": {},
   "source": [
    "# Abordagem 3\n",
    "Neste caso são usados algoritmos não supervisionados para classificar o conjunto de treinamento."
   ]
  },
  {
   "cell_type": "code",
   "execution_count": 1,
   "metadata": {},
   "outputs": [
    {
     "name": "stderr",
     "output_type": "stream",
     "text": [
      "/home/renan/anaconda3/envs/env_voz/lib/python3.7/site-packages/sklearn/utils/deprecation.py:143: FutureWarning: The sklearn.manifold.t_sne module is  deprecated in version 0.22 and will be removed in version 0.24. The corresponding classes / functions should instead be imported from sklearn.manifold. Anything that cannot be imported from sklearn.manifold is now part of the private API.\n",
      "  warnings.warn(message, FutureWarning)\n"
     ]
    }
   ],
   "source": [
    "import pandas as pd \n",
    "from sklearn.cluster import KMeans\n",
    "from sklearn.metrics import confusion_matrix\n",
    "from sklearn.model_selection import train_test_split\n",
    "from sklearn.model_selection import StratifiedShuffleSplit\n",
    "import numpy as np\n",
    "\n",
    "import matplotlib.pyplot as plt\n",
    "import matplotlib.patheffects as PathEffects\n",
    "import matplotlib\n",
    "%matplotlib inline\n",
    "from sklearn.manifold import TSNE\n",
    "from sklearn.metrics.pairwise import pairwise_distances\n",
    "import sklearn.manifold.t_sne #import (_joint_probabilities,_kl_divergence)\n",
    "from scipy import linalg\n",
    "\n"
   ]
  },
  {
   "cell_type": "code",
   "execution_count": 2,
   "metadata": {},
   "outputs": [
    {
     "data": {
      "text/html": [
       "<div>\n",
       "<style scoped>\n",
       "    .dataframe tbody tr th:only-of-type {\n",
       "        vertical-align: middle;\n",
       "    }\n",
       "\n",
       "    .dataframe tbody tr th {\n",
       "        vertical-align: top;\n",
       "    }\n",
       "\n",
       "    .dataframe thead th {\n",
       "        text-align: right;\n",
       "    }\n",
       "</style>\n",
       "<table border=\"1\" class=\"dataframe\">\n",
       "  <thead>\n",
       "    <tr style=\"text-align: right;\">\n",
       "      <th></th>\n",
       "      <th>DIM_1</th>\n",
       "      <th>DIM_2</th>\n",
       "      <th>DIM_3</th>\n",
       "      <th>DIM_4</th>\n",
       "      <th>DIM_5</th>\n",
       "      <th>DIM_6</th>\n",
       "      <th>DIM_7</th>\n",
       "      <th>DIM_8</th>\n",
       "      <th>DIM_9</th>\n",
       "      <th>DIM_10</th>\n",
       "      <th>DIM_11</th>\n",
       "      <th>DIM_12</th>\n",
       "      <th>DIM_13</th>\n",
       "      <th>DIM_14</th>\n",
       "      <th>DIM_15</th>\n",
       "      <th>DIM_16</th>\n",
       "      <th>DIM_17</th>\n",
       "      <th>DIM_18</th>\n",
       "      <th>DIM_19</th>\n",
       "      <th>DIM_20</th>\n",
       "    </tr>\n",
       "  </thead>\n",
       "  <tbody>\n",
       "    <tr>\n",
       "      <th>0</th>\n",
       "      <td>0.481778</td>\n",
       "      <td>-2.690799</td>\n",
       "      <td>1.929163</td>\n",
       "      <td>2.194800</td>\n",
       "      <td>0.481778</td>\n",
       "      <td>-1.374999</td>\n",
       "      <td>-1.374999</td>\n",
       "      <td>-2.690799</td>\n",
       "      <td>2.194800</td>\n",
       "      <td>-2.650589</td>\n",
       "      <td>1.968976</td>\n",
       "      <td>2.987171</td>\n",
       "      <td>0.224900</td>\n",
       "      <td>-5.592626</td>\n",
       "      <td>0.481778</td>\n",
       "      <td>-5.644713</td>\n",
       "      <td>-5.592626</td>\n",
       "      <td>-3.261920</td>\n",
       "      <td>1.293436</td>\n",
       "      <td>0.056862</td>\n",
       "    </tr>\n",
       "    <tr>\n",
       "      <th>1</th>\n",
       "      <td>-0.758880</td>\n",
       "      <td>0.624947</td>\n",
       "      <td>3.096758</td>\n",
       "      <td>2.366358</td>\n",
       "      <td>-0.758880</td>\n",
       "      <td>0.614977</td>\n",
       "      <td>0.614977</td>\n",
       "      <td>0.624947</td>\n",
       "      <td>2.366358</td>\n",
       "      <td>-0.041634</td>\n",
       "      <td>-1.194561</td>\n",
       "      <td>0.320281</td>\n",
       "      <td>-1.095600</td>\n",
       "      <td>1.737322</td>\n",
       "      <td>-0.758880</td>\n",
       "      <td>1.703506</td>\n",
       "      <td>1.737322</td>\n",
       "      <td>-1.503375</td>\n",
       "      <td>-2.976826</td>\n",
       "      <td>-3.347693</td>\n",
       "    </tr>\n",
       "    <tr>\n",
       "      <th>2</th>\n",
       "      <td>1.547708</td>\n",
       "      <td>-0.824650</td>\n",
       "      <td>0.446411</td>\n",
       "      <td>1.946270</td>\n",
       "      <td>1.547708</td>\n",
       "      <td>2.577463</td>\n",
       "      <td>2.577463</td>\n",
       "      <td>-0.824650</td>\n",
       "      <td>1.946270</td>\n",
       "      <td>-0.986832</td>\n",
       "      <td>-1.923297</td>\n",
       "      <td>-0.587897</td>\n",
       "      <td>-1.630104</td>\n",
       "      <td>2.047893</td>\n",
       "      <td>1.547708</td>\n",
       "      <td>-1.639816</td>\n",
       "      <td>2.047893</td>\n",
       "      <td>-5.171651</td>\n",
       "      <td>0.599213</td>\n",
       "      <td>-0.236890</td>\n",
       "    </tr>\n",
       "    <tr>\n",
       "      <th>3</th>\n",
       "      <td>-1.593411</td>\n",
       "      <td>1.549793</td>\n",
       "      <td>3.488298</td>\n",
       "      <td>3.629761</td>\n",
       "      <td>-1.593411</td>\n",
       "      <td>0.998859</td>\n",
       "      <td>0.998859</td>\n",
       "      <td>1.549793</td>\n",
       "      <td>3.629761</td>\n",
       "      <td>-0.543969</td>\n",
       "      <td>-2.786350</td>\n",
       "      <td>-0.314272</td>\n",
       "      <td>-0.619047</td>\n",
       "      <td>2.110562</td>\n",
       "      <td>-1.593411</td>\n",
       "      <td>2.709332</td>\n",
       "      <td>2.110562</td>\n",
       "      <td>-2.212294</td>\n",
       "      <td>-3.313402</td>\n",
       "      <td>-2.805601</td>\n",
       "    </tr>\n",
       "    <tr>\n",
       "      <th>4</th>\n",
       "      <td>3.085533</td>\n",
       "      <td>-1.584111</td>\n",
       "      <td>1.057157</td>\n",
       "      <td>0.850008</td>\n",
       "      <td>3.085533</td>\n",
       "      <td>1.026912</td>\n",
       "      <td>1.026912</td>\n",
       "      <td>-1.584111</td>\n",
       "      <td>0.850008</td>\n",
       "      <td>0.642361</td>\n",
       "      <td>1.354507</td>\n",
       "      <td>0.484823</td>\n",
       "      <td>-1.107261</td>\n",
       "      <td>0.751787</td>\n",
       "      <td>3.085533</td>\n",
       "      <td>-4.033858</td>\n",
       "      <td>0.751787</td>\n",
       "      <td>-3.470866</td>\n",
       "      <td>0.811846</td>\n",
       "      <td>-2.874889</td>\n",
       "    </tr>\n",
       "    <tr>\n",
       "      <th>5</th>\n",
       "      <td>0.225221</td>\n",
       "      <td>-2.022480</td>\n",
       "      <td>2.492887</td>\n",
       "      <td>2.109219</td>\n",
       "      <td>0.225221</td>\n",
       "      <td>-0.113400</td>\n",
       "      <td>-0.113400</td>\n",
       "      <td>-2.022480</td>\n",
       "      <td>2.109219</td>\n",
       "      <td>-2.115855</td>\n",
       "      <td>0.806688</td>\n",
       "      <td>2.754259</td>\n",
       "      <td>-1.220831</td>\n",
       "      <td>-3.625507</td>\n",
       "      <td>0.225221</td>\n",
       "      <td>-4.048901</td>\n",
       "      <td>-3.625507</td>\n",
       "      <td>-4.361640</td>\n",
       "      <td>0.614697</td>\n",
       "      <td>-0.884426</td>\n",
       "    </tr>\n",
       "    <tr>\n",
       "      <th>6</th>\n",
       "      <td>1.685156</td>\n",
       "      <td>-1.888123</td>\n",
       "      <td>1.868993</td>\n",
       "      <td>3.164648</td>\n",
       "      <td>1.685156</td>\n",
       "      <td>0.819944</td>\n",
       "      <td>0.819944</td>\n",
       "      <td>-1.888123</td>\n",
       "      <td>3.164648</td>\n",
       "      <td>-1.777343</td>\n",
       "      <td>-0.063630</td>\n",
       "      <td>0.918951</td>\n",
       "      <td>-0.525844</td>\n",
       "      <td>-1.127290</td>\n",
       "      <td>1.685156</td>\n",
       "      <td>-4.288397</td>\n",
       "      <td>-1.127290</td>\n",
       "      <td>-5.055856</td>\n",
       "      <td>0.485159</td>\n",
       "      <td>-1.200129</td>\n",
       "    </tr>\n",
       "    <tr>\n",
       "      <th>7</th>\n",
       "      <td>0.520673</td>\n",
       "      <td>-1.462370</td>\n",
       "      <td>3.473858</td>\n",
       "      <td>2.355155</td>\n",
       "      <td>0.520673</td>\n",
       "      <td>0.524558</td>\n",
       "      <td>0.524558</td>\n",
       "      <td>-1.462370</td>\n",
       "      <td>2.355155</td>\n",
       "      <td>-0.945509</td>\n",
       "      <td>0.457348</td>\n",
       "      <td>2.104907</td>\n",
       "      <td>-2.036561</td>\n",
       "      <td>-0.670842</td>\n",
       "      <td>0.520673</td>\n",
       "      <td>-2.126162</td>\n",
       "      <td>-0.670842</td>\n",
       "      <td>-3.902823</td>\n",
       "      <td>-1.457445</td>\n",
       "      <td>-3.471213</td>\n",
       "    </tr>\n",
       "    <tr>\n",
       "      <th>8</th>\n",
       "      <td>-1.353294</td>\n",
       "      <td>1.534632</td>\n",
       "      <td>3.749267</td>\n",
       "      <td>2.671265</td>\n",
       "      <td>-1.353294</td>\n",
       "      <td>0.829007</td>\n",
       "      <td>0.829007</td>\n",
       "      <td>1.534632</td>\n",
       "      <td>2.671265</td>\n",
       "      <td>0.311106</td>\n",
       "      <td>-1.871476</td>\n",
       "      <td>0.243888</td>\n",
       "      <td>-1.184842</td>\n",
       "      <td>2.051934</td>\n",
       "      <td>-1.353294</td>\n",
       "      <td>2.585362</td>\n",
       "      <td>2.051934</td>\n",
       "      <td>-1.762989</td>\n",
       "      <td>-3.270411</td>\n",
       "      <td>-3.847704</td>\n",
       "    </tr>\n",
       "    <tr>\n",
       "      <th>9</th>\n",
       "      <td>0.580345</td>\n",
       "      <td>0.631322</td>\n",
       "      <td>0.713587</td>\n",
       "      <td>2.303129</td>\n",
       "      <td>0.580345</td>\n",
       "      <td>2.815299</td>\n",
       "      <td>2.815299</td>\n",
       "      <td>0.631322</td>\n",
       "      <td>2.303129</td>\n",
       "      <td>-0.772003</td>\n",
       "      <td>-3.148032</td>\n",
       "      <td>-0.912143</td>\n",
       "      <td>-1.194035</td>\n",
       "      <td>1.789704</td>\n",
       "      <td>0.580345</td>\n",
       "      <td>-0.792237</td>\n",
       "      <td>1.789704</td>\n",
       "      <td>-5.637653</td>\n",
       "      <td>1.119476</td>\n",
       "      <td>0.322888</td>\n",
       "    </tr>\n",
       "  </tbody>\n",
       "</table>\n",
       "</div>"
      ],
      "text/plain": [
       "      DIM_1     DIM_2     DIM_3     DIM_4     DIM_5     DIM_6     DIM_7  \\\n",
       "0  0.481778 -2.690799  1.929163  2.194800  0.481778 -1.374999 -1.374999   \n",
       "1 -0.758880  0.624947  3.096758  2.366358 -0.758880  0.614977  0.614977   \n",
       "2  1.547708 -0.824650  0.446411  1.946270  1.547708  2.577463  2.577463   \n",
       "3 -1.593411  1.549793  3.488298  3.629761 -1.593411  0.998859  0.998859   \n",
       "4  3.085533 -1.584111  1.057157  0.850008  3.085533  1.026912  1.026912   \n",
       "5  0.225221 -2.022480  2.492887  2.109219  0.225221 -0.113400 -0.113400   \n",
       "6  1.685156 -1.888123  1.868993  3.164648  1.685156  0.819944  0.819944   \n",
       "7  0.520673 -1.462370  3.473858  2.355155  0.520673  0.524558  0.524558   \n",
       "8 -1.353294  1.534632  3.749267  2.671265 -1.353294  0.829007  0.829007   \n",
       "9  0.580345  0.631322  0.713587  2.303129  0.580345  2.815299  2.815299   \n",
       "\n",
       "      DIM_8     DIM_9    DIM_10    DIM_11    DIM_12    DIM_13    DIM_14  \\\n",
       "0 -2.690799  2.194800 -2.650589  1.968976  2.987171  0.224900 -5.592626   \n",
       "1  0.624947  2.366358 -0.041634 -1.194561  0.320281 -1.095600  1.737322   \n",
       "2 -0.824650  1.946270 -0.986832 -1.923297 -0.587897 -1.630104  2.047893   \n",
       "3  1.549793  3.629761 -0.543969 -2.786350 -0.314272 -0.619047  2.110562   \n",
       "4 -1.584111  0.850008  0.642361  1.354507  0.484823 -1.107261  0.751787   \n",
       "5 -2.022480  2.109219 -2.115855  0.806688  2.754259 -1.220831 -3.625507   \n",
       "6 -1.888123  3.164648 -1.777343 -0.063630  0.918951 -0.525844 -1.127290   \n",
       "7 -1.462370  2.355155 -0.945509  0.457348  2.104907 -2.036561 -0.670842   \n",
       "8  1.534632  2.671265  0.311106 -1.871476  0.243888 -1.184842  2.051934   \n",
       "9  0.631322  2.303129 -0.772003 -3.148032 -0.912143 -1.194035  1.789704   \n",
       "\n",
       "     DIM_15    DIM_16    DIM_17    DIM_18    DIM_19    DIM_20  \n",
       "0  0.481778 -5.644713 -5.592626 -3.261920  1.293436  0.056862  \n",
       "1 -0.758880  1.703506  1.737322 -1.503375 -2.976826 -3.347693  \n",
       "2  1.547708 -1.639816  2.047893 -5.171651  0.599213 -0.236890  \n",
       "3 -1.593411  2.709332  2.110562 -2.212294 -3.313402 -2.805601  \n",
       "4  3.085533 -4.033858  0.751787 -3.470866  0.811846 -2.874889  \n",
       "5  0.225221 -4.048901 -3.625507 -4.361640  0.614697 -0.884426  \n",
       "6  1.685156 -4.288397 -1.127290 -5.055856  0.485159 -1.200129  \n",
       "7  0.520673 -2.126162 -0.670842 -3.902823 -1.457445 -3.471213  \n",
       "8 -1.353294  2.585362  2.051934 -1.762989 -3.270411 -3.847704  \n",
       "9  0.580345 -0.792237  1.789704 -5.637653  1.119476  0.322888  "
      ]
     },
     "execution_count": 2,
     "metadata": {},
     "output_type": "execute_result"
    }
   ],
   "source": [
    "X_train_ = pd.read_csv(\"X_train.csv\") \n",
    "X_test_ = pd.read_csv(\"X_test.csv\") \n",
    "y_test_ = pd.read_csv(\"y_test.csv\") \n",
    "X_test_.columns =['DIM_1', 'DIM_2', 'DIM_3', 'DIM_4', 'DIM_5', 'DIM_6', 'DIM_7', \n",
    "                 'DIM_8', 'DIM_9', 'DIM_10', 'DIM_11', 'DIM_12','DIM_13', 'DIM_14',\n",
    "                 'DIM_15', 'DIM_16','DIM_17', 'DIM_18', 'DIM_19', 'DIM_20',]\n",
    "y_test_.columns =['OUT']\n",
    "X_train_.columns =['DIM_1', 'DIM_2', 'DIM_3', 'DIM_4', 'DIM_5', 'DIM_6', 'DIM_7', \n",
    "                 'DIM_8', 'DIM_9', 'DIM_10', 'DIM_11', 'DIM_12','DIM_13', 'DIM_14',\n",
    "                 'DIM_15', 'DIM_16','DIM_17', 'DIM_18', 'DIM_19', 'DIM_20',]\n",
    "#test_ = pd.concat([X_test, y_test], axis=1)\n",
    "#test_.head()\n",
    "#X_test.isnull().sum()\n",
    "#X_test_ = X_test.dropna()\n",
    "#train_test_split(X_test, test_size=0.05)\n",
    "#train, test  = train_test_split(test_, test_size=0.05)\n",
    "X_test_.head(10)"
   ]
  },
  {
   "cell_type": "code",
   "execution_count": 3,
   "metadata": {},
   "outputs": [],
   "source": [
    "from sklearn.impute import SimpleImputer\n",
    "#X_train_ = X_train.dropna()\n",
    "#print(X_train_.isnull().sum())\n",
    "imp_mean = SimpleImputer( strategy='mean')\n",
    "imp_mean.fit(X_train_)\n",
    "\n",
    "X_train_ = imp_mean.transform(X_train_)\n",
    "#X_train_ = imp_mean.transform(X_train)\n",
    "\n",
    "imp_mean = SimpleImputer( strategy='mean', missing_values=np.NaN)\n",
    "imp_mean.fit(X_train_)\n",
    "X_train_ = imp_mean.transform(X_train_)\n",
    "#X_train_.shape\n",
    "\n",
    "#X_train_"
   ]
  },
  {
   "cell_type": "code",
   "execution_count": 4,
   "metadata": {},
   "outputs": [],
   "source": [
    "sss = StratifiedShuffleSplit(n_splits=1, test_size=0.2, random_state=0)\n",
    "sss.get_n_splits(X_test_, y_test_)\n",
    "\n",
    "for train_index, test_index in sss.split(X_test_, y_test_):\n",
    "    #print(\"TRAIN:\", train_index, \"TEST:\", test_index)\n",
    "    X_train, X_traintest = X_test_.iloc[train_index], X_test_.iloc[test_index]\n",
    "    y_train, y_traintest = y_test_.iloc[train_index], y_test_.iloc[test_index]\n",
    "#y_traintest.head(25)"
   ]
  },
  {
   "cell_type": "code",
   "execution_count": 5,
   "metadata": {},
   "outputs": [],
   "source": [
    "#X_traintest.head(15)"
   ]
  },
  {
   "cell_type": "markdown",
   "metadata": {},
   "source": [
    "## t-SNE"
   ]
  },
  {
   "cell_type": "code",
   "execution_count": 6,
   "metadata": {},
   "outputs": [],
   "source": [
    "var_proj = TSNE(random_state=420).fit_transform(X_train_)\n",
    "#var_proj\n",
    "#print(var_proj[360,:])"
   ]
  },
  {
   "cell_type": "code",
   "execution_count": 7,
   "metadata": {},
   "outputs": [
    {
     "data": {
      "image/png": "[encoded data removed]",
      "text/plain": [
       "<Figure size 432x288 with 1 Axes>"
      ]
     },
     "metadata": {
      "needs_background": "light"
     },
     "output_type": "display_data"
    }
   ],
   "source": [
    "plt.scatter(var_proj[:,0], var_proj[:,1])\n",
    "plt.show()"
   ]
  },
  {
   "cell_type": "raw",
   "metadata": {},
   "source": [
    "Preciso tirar esses outliers"
   ]
  },
  {
   "cell_type": "code",
   "execution_count": 8,
   "metadata": {},
   "outputs": [
    {
     "name": "stdout",
     "output_type": "stream",
     "text": [
      "791\n",
      "359\n"
     ]
    },
    {
     "data": {
      "image/png": "[encoded data removed]",
      "text/plain": [
       "<Figure size 432x288 with 1 Axes>"
      ]
     },
     "metadata": {
      "needs_background": "light"
     },
     "output_type": "display_data"
    }
   ],
   "source": [
    "# Remove o maior\n",
    "index1 = np.argmax( (np.sum((var_proj)**2, axis=1)) )\n",
    "print(index1)\n",
    "var_proj_ = np.delete(var_proj, index1, axis=0)\n",
    "# Remove o segundo maior\n",
    "index2 = np.argmax( (np.sum((var_proj_)**2, axis=1)) )\n",
    "print(index2)\n",
    "var_proj__ = np.delete(var_proj_, index2, axis=0)\n",
    "# Plotar os Inliners\n",
    "plt.scatter(var_proj__[:,0], var_proj__[:,1])\n",
    "plt.show()\n",
    "GMM_train = var_proj__\n",
    "\n"
   ]
  },
  {
   "cell_type": "code",
   "execution_count": 9,
   "metadata": {},
   "outputs": [
    {
     "data": {
      "text/html": [
       "<div>\n",
       "<style scoped>\n",
       "    .dataframe tbody tr th:only-of-type {\n",
       "        vertical-align: middle;\n",
       "    }\n",
       "\n",
       "    .dataframe tbody tr th {\n",
       "        vertical-align: top;\n",
       "    }\n",
       "\n",
       "    .dataframe thead th {\n",
       "        text-align: right;\n",
       "    }\n",
       "</style>\n",
       "<table border=\"1\" class=\"dataframe\">\n",
       "  <thead>\n",
       "    <tr style=\"text-align: right;\">\n",
       "      <th></th>\n",
       "      <th>0</th>\n",
       "      <th>1</th>\n",
       "      <th>2</th>\n",
       "      <th>3</th>\n",
       "      <th>4</th>\n",
       "      <th>5</th>\n",
       "      <th>6</th>\n",
       "      <th>7</th>\n",
       "      <th>8</th>\n",
       "      <th>9</th>\n",
       "      <th>10</th>\n",
       "      <th>11</th>\n",
       "      <th>12</th>\n",
       "      <th>13</th>\n",
       "      <th>14</th>\n",
       "      <th>15</th>\n",
       "      <th>16</th>\n",
       "      <th>17</th>\n",
       "      <th>18</th>\n",
       "      <th>19</th>\n",
       "    </tr>\n",
       "  </thead>\n",
       "  <tbody>\n",
       "    <tr>\n",
       "      <th>0</th>\n",
       "      <td>-0.899063</td>\n",
       "      <td>-0.480603</td>\n",
       "      <td>-1.670255</td>\n",
       "      <td>-2.282391</td>\n",
       "      <td>-0.899063</td>\n",
       "      <td>-1.076536</td>\n",
       "      <td>-1.076536</td>\n",
       "      <td>-0.480603</td>\n",
       "      <td>-2.282391</td>\n",
       "      <td>-0.472103</td>\n",
       "      <td>1.144313</td>\n",
       "      <td>1.061767</td>\n",
       "      <td>0.185259</td>\n",
       "      <td>-2.876827</td>\n",
       "      <td>-0.899063</td>\n",
       "      <td>-0.430605</td>\n",
       "      <td>-2.876827</td>\n",
       "      <td>1.694226</td>\n",
       "      <td>1.799027</td>\n",
       "      <td>2.771487</td>\n",
       "    </tr>\n",
       "    <tr>\n",
       "      <th>1</th>\n",
       "      <td>-2.323976</td>\n",
       "      <td>-3.348052</td>\n",
       "      <td>0.607788</td>\n",
       "      <td>0.425983</td>\n",
       "      <td>-2.323976</td>\n",
       "      <td>-0.387229</td>\n",
       "      <td>-0.387229</td>\n",
       "      <td>-3.348052</td>\n",
       "      <td>0.425983</td>\n",
       "      <td>-5.142310</td>\n",
       "      <td>0.164442</td>\n",
       "      <td>4.493414</td>\n",
       "      <td>-2.402873</td>\n",
       "      <td>-7.267695</td>\n",
       "      <td>-2.323976</td>\n",
       "      <td>-3.394197</td>\n",
       "      <td>-7.267695</td>\n",
       "      <td>-4.420329</td>\n",
       "      <td>2.168286</td>\n",
       "      <td>4.533912</td>\n",
       "    </tr>\n",
       "    <tr>\n",
       "      <th>2</th>\n",
       "      <td>0.437791</td>\n",
       "      <td>-0.362643</td>\n",
       "      <td>0.227631</td>\n",
       "      <td>-0.078306</td>\n",
       "      <td>0.437791</td>\n",
       "      <td>2.358362</td>\n",
       "      <td>2.358362</td>\n",
       "      <td>-0.362643</td>\n",
       "      <td>-0.078306</td>\n",
       "      <td>-0.445158</td>\n",
       "      <td>-1.464171</td>\n",
       "      <td>0.544595</td>\n",
       "      <td>-2.652340</td>\n",
       "      <td>0.837214</td>\n",
       "      <td>0.437791</td>\n",
       "      <td>-0.762070</td>\n",
       "      <td>0.837214</td>\n",
       "      <td>-4.422075</td>\n",
       "      <td>1.357079</td>\n",
       "      <td>0.332415</td>\n",
       "    </tr>\n",
       "    <tr>\n",
       "      <th>3</th>\n",
       "      <td>-1.550006</td>\n",
       "      <td>-0.540902</td>\n",
       "      <td>2.407810</td>\n",
       "      <td>2.205159</td>\n",
       "      <td>-1.550006</td>\n",
       "      <td>-1.106735</td>\n",
       "      <td>-1.106735</td>\n",
       "      <td>-0.540902</td>\n",
       "      <td>2.205159</td>\n",
       "      <td>-1.901841</td>\n",
       "      <td>0.062618</td>\n",
       "      <td>1.879379</td>\n",
       "      <td>0.171096</td>\n",
       "      <td>-3.137197</td>\n",
       "      <td>-1.550006</td>\n",
       "      <td>-0.883804</td>\n",
       "      <td>-3.137197</td>\n",
       "      <td>-1.191569</td>\n",
       "      <td>-1.025149</td>\n",
       "      <td>-0.440226</td>\n",
       "    </tr>\n",
       "    <tr>\n",
       "      <th>4</th>\n",
       "      <td>-0.853613</td>\n",
       "      <td>-0.348163</td>\n",
       "      <td>-0.619060</td>\n",
       "      <td>-0.374499</td>\n",
       "      <td>-0.853613</td>\n",
       "      <td>-0.337948</td>\n",
       "      <td>-0.337948</td>\n",
       "      <td>-0.348163</td>\n",
       "      <td>-0.374499</td>\n",
       "      <td>-0.996757</td>\n",
       "      <td>-0.130235</td>\n",
       "      <td>0.462139</td>\n",
       "      <td>0.036540</td>\n",
       "      <td>-1.388654</td>\n",
       "      <td>-0.853613</td>\n",
       "      <td>0.124742</td>\n",
       "      <td>-1.388654</td>\n",
       "      <td>0.287287</td>\n",
       "      <td>0.484055</td>\n",
       "      <td>1.810847</td>\n",
       "    </tr>\n",
       "  </tbody>\n",
       "</table>\n",
       "</div>"
      ],
      "text/plain": [
       "         0         1         2         3         4         5         6   \\\n",
       "0 -0.899063 -0.480603 -1.670255 -2.282391 -0.899063 -1.076536 -1.076536   \n",
       "1 -2.323976 -3.348052  0.607788  0.425983 -2.323976 -0.387229 -0.387229   \n",
       "2  0.437791 -0.362643  0.227631 -0.078306  0.437791  2.358362  2.358362   \n",
       "3 -1.550006 -0.540902  2.407810  2.205159 -1.550006 -1.106735 -1.106735   \n",
       "4 -0.853613 -0.348163 -0.619060 -0.374499 -0.853613 -0.337948 -0.337948   \n",
       "\n",
       "         7         8         9         10        11        12        13  \\\n",
       "0 -0.480603 -2.282391 -0.472103  1.144313  1.061767  0.185259 -2.876827   \n",
       "1 -3.348052  0.425983 -5.142310  0.164442  4.493414 -2.402873 -7.267695   \n",
       "2 -0.362643 -0.078306 -0.445158 -1.464171  0.544595 -2.652340  0.837214   \n",
       "3 -0.540902  2.205159 -1.901841  0.062618  1.879379  0.171096 -3.137197   \n",
       "4 -0.348163 -0.374499 -0.996757 -0.130235  0.462139  0.036540 -1.388654   \n",
       "\n",
       "         14        15        16        17        18        19  \n",
       "0 -0.899063 -0.430605 -2.876827  1.694226  1.799027  2.771487  \n",
       "1 -2.323976 -3.394197 -7.267695 -4.420329  2.168286  4.533912  \n",
       "2  0.437791 -0.762070  0.837214 -4.422075  1.357079  0.332415  \n",
       "3 -1.550006 -0.883804 -3.137197 -1.191569 -1.025149 -0.440226  \n",
       "4 -0.853613  0.124742 -1.388654  0.287287  0.484055  1.810847  "
      ]
     },
     "execution_count": 9,
     "metadata": {},
     "output_type": "execute_result"
    }
   ],
   "source": [
    "Treino = pd.DataFrame(X_train_)\n",
    "Treino = Treino.drop([index1,index2], axis=0)\n",
    "#Treino = Treino.drop([0, index2])\n",
    "#print(index2)\n",
    "Treino.head()"
   ]
  },
  {
   "cell_type": "code",
   "execution_count": 10,
   "metadata": {},
   "outputs": [],
   "source": [
    "from sklearn.svm import OneClassSVM\n",
    "OCSVM = OneClassSVM(nu=0.01, gamma=0.05)\n",
    "#OCSVM.fit(var_proj)\n",
    "inlier = OCSVM.fit_predict(var_proj)\n",
    "#print(inlier)"
   ]
  },
  {
   "cell_type": "markdown",
   "metadata": {},
   "source": [
    "## Gaussian Mixture Mode"
   ]
  },
  {
   "cell_type": "code",
   "execution_count": 11,
   "metadata": {},
   "outputs": [
    {
     "data": {
      "text/plain": [
       "372"
      ]
     },
     "execution_count": 11,
     "metadata": {},
     "output_type": "execute_result"
    }
   ],
   "source": [
    "from sklearn import mixture\n",
    "# fit a Gaussian Mixture Model with two components\n",
    "clf = mixture.GaussianMixture(n_components=2, covariance_type='full')\n",
    "clf.fit(GMM_train)\n",
    "y_gmm_pred = clf.predict(GMM_train)\n",
    "np.sum(y_gmm_pred)"
   ]
  },
  {
   "cell_type": "code",
   "execution_count": 12,
   "metadata": {},
   "outputs": [
    {
     "data": {
      "text/plain": [
       "412"
      ]
     },
     "execution_count": 12,
     "metadata": {},
     "output_type": "execute_result"
    }
   ],
   "source": [
    "# Fit a Dirichlet process Gaussian mixture using five components\n",
    "dpgmm = mixture.BayesianGaussianMixture(n_components=2,\n",
    "                                        covariance_type='full')\n",
    "gmm_pred = dpgmm.fit(GMM_train)\n",
    "y_dpgmm_pred = gmm_pred.predict(GMM_train)\n",
    "np.sum(y_dpgmm_pred)"
   ]
  },
  {
   "cell_type": "code",
   "execution_count": 13,
   "metadata": {},
   "outputs": [],
   "source": [
    "#confusion_matrix(y_train, np.abs(1-y_dpgmm_pred))\n",
    "#confusion_matrix(y_traintest, y_dpgmm_pred)"
   ]
  },
  {
   "cell_type": "code",
   "execution_count": 14,
   "metadata": {},
   "outputs": [],
   "source": [
    "#confusion_matrix(y_train, abs(1-y_gmm_pred))\n",
    "#confusion_matrix(y_traintest, y_gmm_pred)"
   ]
  },
  {
   "cell_type": "code",
   "execution_count": 15,
   "metadata": {},
   "outputs": [],
   "source": [
    "y_train_pred = gmm_pred.predict(GMM_train)\n",
    "#y_train_pred"
   ]
  },
  {
   "cell_type": "markdown",
   "metadata": {},
   "source": [
    "## Treinar um classificador stacking\n",
    "Usando os rotulos calculados anteriormente."
   ]
  },
  {
   "cell_type": "code",
   "execution_count": 16,
   "metadata": {},
   "outputs": [],
   "source": [
    "from sklearn.ensemble import StackingClassifier\n",
    "from sklearn.neural_network import MLPClassifier\n",
    "from sklearn.linear_model import LogisticRegressionCV\n",
    "\n",
    "from sklearn.pipeline import Pipeline\n",
    "from sklearn.preprocessing import StandardScaler\n",
    "from sklearn.preprocessing import PolynomialFeatures\n",
    "from sklearn.svm import LinearSVC\n",
    "from sklearn.svm import SVC\n",
    "from sklearn.neighbors import KNeighborsClassifier\n",
    "from sklearn.model_selection import cross_val_score, RepeatedStratifiedKFold\n",
    "from collections import defaultdict\n",
    "from sklearn import mixture\n",
    "from sklearn.ensemble import RandomForestClassifier\n",
    "from sklearn.neural_network import MLPClassifier\n",
    "from sklearn.linear_model import LogisticRegressionCV\n",
    "from sklearn.ensemble import StackingClassifier\n",
    "from sklearn.linear_model import SGDClassifier\n",
    "\n",
    "base_models = [('random_forest', RandomForestClassifier(n_estimators=50)),\n",
    "               ('svm', SVC()),\n",
    "               ('knn', KNeighborsClassifier(n_neighbors=11))]\n",
    "meta_model = LogisticRegressionCV()\n",
    "stacking_model = StackingClassifier(estimators=base_models, \n",
    "                                    final_estimator=meta_model, \n",
    "                                    stack_method='predict',\n",
    "                                    #passthrough=True, \n",
    "                                    cv=5,\n",
    "                                    verbose=2\n",
    "                                   )"
   ]
  },
  {
   "cell_type": "code",
   "execution_count": 17,
   "metadata": {},
   "outputs": [],
   "source": [
    "def evaluate_model(model, X, y):\n",
    "    cv = RepeatedStratifiedKFold(n_splits=3, n_repeats=2, random_state=1)\n",
    "    scores = cross_val_score(model, X, y, scoring='accuracy', cv=cv, verbose=1, n_jobs=3, error_score='raise')\n",
    "    return scores\n",
    "model_scores = defaultdict()"
   ]
  },
  {
   "cell_type": "code",
   "execution_count": 18,
   "metadata": {},
   "outputs": [
    {
     "name": "stderr",
     "output_type": "stream",
     "text": [
      "[Parallel(n_jobs=3)]: Using backend LokyBackend with 3 concurrent workers.\n",
      "[Parallel(n_jobs=3)]: Done   6 out of   6 | elapsed:    4.0s finished\n"
     ]
    }
   ],
   "source": [
    "stacking_scores = evaluate_model(stacking_model, GMM_train, y_dpgmm_pred)\n",
    "model_scores['stacking'] = stacking_scores"
   ]
  },
  {
   "cell_type": "code",
   "execution_count": 19,
   "metadata": {},
   "outputs": [
    {
     "name": "stderr",
     "output_type": "stream",
     "text": [
      "[Parallel(n_jobs=1)]: Using backend SequentialBackend with 1 concurrent workers.\n",
      "[Parallel(n_jobs=1)]: Done   1 out of   1 | elapsed:    0.1s remaining:    0.0s\n",
      "[Parallel(n_jobs=1)]: Done   5 out of   5 | elapsed:    0.5s finished\n",
      "[Parallel(n_jobs=1)]: Using backend SequentialBackend with 1 concurrent workers.\n",
      "[Parallel(n_jobs=1)]: Done   1 out of   1 | elapsed:    0.0s remaining:    0.0s\n",
      "[Parallel(n_jobs=1)]: Done   5 out of   5 | elapsed:    0.0s finished\n",
      "[Parallel(n_jobs=1)]: Using backend SequentialBackend with 1 concurrent workers.\n",
      "[Parallel(n_jobs=1)]: Done   1 out of   1 | elapsed:    0.0s remaining:    0.0s\n",
      "[Parallel(n_jobs=1)]: Done   5 out of   5 | elapsed:    0.1s finished\n"
     ]
    },
    {
     "data": {
      "text/plain": [
       "StackingClassifier(cv=5,\n",
       "                   estimators=[('random_forest',\n",
       "                                RandomForestClassifier(n_estimators=50)),\n",
       "                               ('svm', SVC()),\n",
       "                               ('knn', KNeighborsClassifier(n_neighbors=11))],\n",
       "                   final_estimator=LogisticRegressionCV(),\n",
       "                   stack_method='predict', verbose=2)"
      ]
     },
     "execution_count": 19,
     "metadata": {},
     "output_type": "execute_result"
    }
   ],
   "source": [
    "stacking_model.fit(GMM_train, y_dpgmm_pred)"
   ]
  },
  {
   "cell_type": "code",
   "execution_count": 20,
   "metadata": {},
   "outputs": [],
   "source": [
    "## Conferindo o teste\n",
    "y_test_predict = stacking_model.predict( TSNE(random_state=420).fit_transform(X_test_))"
   ]
  },
  {
   "cell_type": "code",
   "execution_count": 21,
   "metadata": {},
   "outputs": [
    {
     "data": {
      "text/plain": [
       "array([[90,  9],\n",
       "       [16, 84]])"
      ]
     },
     "execution_count": 21,
     "metadata": {},
     "output_type": "execute_result"
    }
   ],
   "source": [
    "confusion_matrix(y_test_, y_test_predict)"
   ]
  },
  {
   "cell_type": "code",
   "execution_count": null,
   "metadata": {},
   "outputs": [],
   "source": []
  }
 ],
 "metadata": {
  "kernelspec": {
   "display_name": "Python 3",
   "language": "python",
   "name": "python3"
  },
  "language_info": {
   "codemirror_mode": {
    "name": "ipython",
    "version": 3
   },
   "file_extension": ".py",
   "mimetype": "text/x-python",
   "name": "python",
   "nbconvert_exporter": "python",
   "pygments_lexer": "ipython3",
   "version": "3.7.9"
  }
 },
 "nbformat": 4,
 "nbformat_minor": 4
}
